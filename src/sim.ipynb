{
 "cells": [
  {
   "cell_type": "code",
   "execution_count": 1,
   "id": "cf6da9aa-2f3b-4e21-bf59-42d6e1defcd6",
   "metadata": {},
   "outputs": [],
   "source": [
    "import numpy as np\n",
    "import pandas as pd\n",
    "from itertools import combinations\n",
    "from sklearn.linear_model import LinearRegression\n",
    "from tqdm import tqdm\n",
    "import os\n",
    "from typing import List, Tuple, Dict"
   ]
  },
  {
   "cell_type": "markdown",
   "id": "f7391c76-6ed2-44be-bc70-fc70949a9801",
   "metadata": {},
   "source": [
    "# Breiman 2001 \n",
    "*What I call the Rashomon Effect is that there is often a multitude of different descriptions \\[equations f(x)] in a class of functions giving about the same minimum error rate. The most easily understood example is subset selection in linear regression. Suppose there are 30 variables and we want to find the best five variable linear regressions. There are about 140,000 five-variable subsets in competition. Usually we pick the one with the lowest residual sum-of-squares (RSS), or, if there is a test set, the lowest test error. But there may be (and generally are) many five-variable equations that have RSS within 1.0% of the lowest RSS (see Breiman, 1996a). The same is true if test set error is being measured. So here are three possible pictures with RSS or test set error within 1.0% of each other:*\n",
    "\n",
    "*Picture 1 y = 2.1 + 3.8x3 - 0.6x8 + 83.2x12 - 2.1x17 + 3.2x27 <br>\n",
    "Picture 2 y = -8.9 + 4.6x5 + 0.01x6 + 12.0x15 + 17.5X21 + 0.2X22 <br>\n",
    "Picture 3 y = -76.7 + 9.3x2 + 22.0x7 - 13.2x8 + 3.4x11 + 7.2X28 <br>*"
   ]
  },
  {
   "cell_type": "markdown",
   "id": "8cb28510-24b4-40f0-8497-9a658b653961",
   "metadata": {},
   "source": [
    "# Sampling noise is a cause of the Rashomon Effect\n",
    "## This simulation demonstrates by:\n",
    "1. generating a population N=10000 with outcome y and 30 correlated predictors X.\n",
    "2. draw different samples from N.\n",
    "3. Compute size of Rashomon set of subset regression (5-variables) within $\\epsilon=0.01$ of the best fitting model.\n",
    "4. Plot the size of the Rashomon set across different sample sizes. "
   ]
  },
  {
   "cell_type": "code",
   "execution_count": 2,
   "id": "39973a59-b4fc-49b7-a363-9f37104d10e4",
   "metadata": {},
   "outputs": [],
   "source": [
    "class RashomonDataGenerator:\n",
    "    \"\"\"Generates synthetic data for demonstrating the Rashomon Effect.\"\"\"\n",
    "    \n",
    "    def __init__(self, n_pop: int = 10000, n_vars: int = 30, random_state: int = 123):\n",
    "        \"\"\"\n",
    "        Initialize the data generator.\n",
    "        \n",
    "        Parameters:\n",
    "        -----------\n",
    "        n_pop : int\n",
    "            Population size\n",
    "        n_vars : int\n",
    "            Number of predictor variables\n",
    "        random_state : int\n",
    "            Random seed for reproducibility\n",
    "        \"\"\"\n",
    "        self.n_pop = n_pop\n",
    "        self.n_vars = n_vars\n",
    "        self.random_state = random_state\n",
    "        np.random.seed(random_state)\n",
    "        \n",
    "        # Generate population data\n",
    "        self.X_pop, self.y_pop = self._generate_population()\n",
    "        \n",
    "    def _create_correlation_matrix(self) -> np.ndarray:\n",
    "        \"\"\"Create correlation matrix with block structure to induce correlations.\"\"\"\n",
    "        Sigma = np.full((self.n_vars, self.n_vars), 0.3)  # baseline correlation\n",
    "        np.fill_diagonal(Sigma, 1.0)\n",
    "        \n",
    "        # Add stronger correlations between groups of variables\n",
    "        # Group 1: variables 0-4\n",
    "        Sigma[0:5, 0:5] = 0.7\n",
    "        np.fill_diagonal(Sigma, 1.0)\n",
    "        \n",
    "        # Group 2: variables 5-9\n",
    "        Sigma[5:10, 5:10] = 0.6\n",
    "        np.fill_diagonal(Sigma, 1.0)\n",
    "        \n",
    "        # Group 3: variables 10-14\n",
    "        Sigma[10:15, 10:15] = 0.65\n",
    "        np.fill_diagonal(Sigma, 1.0)\n",
    "        \n",
    "        return Sigma\n",
    "    \n",
    "    def _generate_population(self) -> Tuple[np.ndarray, np.ndarray]:\n",
    "        \"\"\"Generate population data with correlated predictors.\"\"\"\n",
    "        # Create correlation matrix\n",
    "        Sigma = self._create_correlation_matrix()\n",
    "        \n",
    "        # Generate correlated predictors\n",
    "        mean = np.zeros(self.n_vars)\n",
    "        X = np.random.multivariate_normal(mean, Sigma, size=self.n_pop)\n",
    "        \n",
    "        # Generate coefficients - many small effects\n",
    "        true_coefs = np.random.normal(0, 1, self.n_vars)\n",
    "        \n",
    "        # Make some coefficients larger\n",
    "        important_vars = np.random.choice(self.n_vars, 10, replace=False)\n",
    "        true_coefs[important_vars] *= 2\n",
    "        \n",
    "        # Generate outcome with moderate noise\n",
    "        signal = X @ true_coefs\n",
    "        noise_sd = np.std(signal) * 0.8  # noise is 80% of signal SD\n",
    "        y = signal + np.random.normal(0, noise_sd, self.n_pop)\n",
    "        \n",
    "        return X, y\n",
    "    \n",
    "    def get_sample(self, n_sample: int) -> pd.DataFrame:\n",
    "        \"\"\"\n",
    "        Get a sample from the population.\n",
    "        \n",
    "        Parameters:\n",
    "        -----------\n",
    "        n_sample : int\n",
    "            Sample size\n",
    "            \n",
    "        Returns:\n",
    "        --------\n",
    "        pd.DataFrame\n",
    "            Sample data with outcome 'y' and predictors 'X0', 'X1', ..., 'X29'\n",
    "        \"\"\"\n",
    "        if n_sample <= self.n_pop:\n",
    "            idx = np.random.choice(self.n_pop, n_sample, replace=False)\n",
    "        else:\n",
    "            idx = np.random.choice(self.n_pop, n_sample, replace=True)\n",
    "        \n",
    "        # Create DataFrame\n",
    "        data = pd.DataFrame(self.X_pop[idx], columns=[f'X{i}' for i in range(self.n_vars)])\n",
    "        data['y'] = self.y_pop[idx]\n",
    "        \n",
    "        return data\n"
   ]
  },
  {
   "cell_type": "code",
   "execution_count": 3,
   "id": "acaf9a06-ec2d-46bc-a60e-dab9cf00cf1c",
   "metadata": {},
   "outputs": [],
   "source": [
    "class RashomonAnalyzer:\n",
    "    \"\"\"Analyzes the Rashomon Effect for linear regression models.\"\"\"\n",
    "    \n",
    "    def __init__(self, n_vars_select: int = 5):\n",
    "        \"\"\"\n",
    "        Initialize the analyzer.\n",
    "        \n",
    "        Parameters:\n",
    "        -----------\n",
    "        n_vars_select : int\n",
    "            Number of variables to select in each model\n",
    "        \"\"\"\n",
    "        self.n_vars_select = n_vars_select\n",
    "        self.results = {}\n",
    "        \n",
    "    def calculate_rss(self, X: np.ndarray, y: np.ndarray) -> float:\n",
    "        \"\"\"Calculate residual sum of squares for a linear model.\"\"\"\n",
    "        model = LinearRegression()\n",
    "        model.fit(X, y)\n",
    "        predictions = model.predict(X)\n",
    "        return np.sum((y - predictions) ** 2)\n",
    "    \n",
    "    def find_rashomon_set(self, data: pd.DataFrame, \n",
    "                         thresholds: List[float] = [0.01, 0.02, 0.05]) -> Dict:\n",
    "        \"\"\"\n",
    "        Find the Rashomon set for different thresholds.\n",
    "        \n",
    "        Parameters:\n",
    "        -----------\n",
    "        data : pd.DataFrame\n",
    "            Sample data\n",
    "        thresholds : List[float]\n",
    "            List of thresholds to evaluate\n",
    "            \n",
    "        Returns:\n",
    "        --------\n",
    "        Dict\n",
    "            Dictionary containing results for each threshold\n",
    "        \"\"\"\n",
    "        # Get predictor names (exclude 'y')\n",
    "        predictor_names = [col for col in data.columns if col != 'y']\n",
    "        y = data['y'].values\n",
    "        \n",
    "        # Get all possible combinations of n_vars_select variables\n",
    "        all_combos = list(combinations(predictor_names, self.n_vars_select))\n",
    "        n_models = len(all_combos)\n",
    "        \n",
    "        print(f\"  Evaluating {n_models} possible {self.n_vars_select}-variable models...\")\n",
    "        \n",
    "        # Calculate RSS for each combination\n",
    "        rss_values = []\n",
    "        \n",
    "        for combo in tqdm(all_combos, desc=\"  Computing RSS\"):\n",
    "            X_subset = data[list(combo)].values\n",
    "            rss = self.calculate_rss(X_subset, y)\n",
    "            rss_values.append(rss)\n",
    "        \n",
    "        rss_values = np.array(rss_values)\n",
    "        min_rss = np.min(rss_values)\n",
    "        \n",
    "        # Count models within each threshold\n",
    "        results = {\n",
    "            'min_rss': min_rss,\n",
    "            'rss_values': rss_values,\n",
    "            'threshold_counts': {}\n",
    "        }\n",
    "        \n",
    "        print(f\"  Models within various thresholds of best:\")\n",
    "        for threshold in thresholds:\n",
    "            threshold_rss = min_rss * (1 + threshold)\n",
    "            n_models_in_set = np.sum(rss_values <= threshold_rss)\n",
    "            results['threshold_counts'][threshold] = n_models_in_set\n",
    "            print(f\"    Within {int(threshold*100)}%: {n_models_in_set} models\")\n",
    "        \n",
    "        return results"
   ]
  },
  {
   "cell_type": "code",
   "execution_count": 4,
   "id": "adaa6aa3-ce70-458e-8753-ae2bfb8c6aa0",
   "metadata": {},
   "outputs": [],
   "source": [
    "class RashomonSimulation:\n",
    "    \"\"\"Main simulation class for the Rashomon Effect.\"\"\"\n",
    "    \n",
    "    def __init__(self, sample_sizes: List[int] = list(range(100, 2001, 100))):\n",
    "    # def __init__(self, sample_sizes: List[int] = [100, 250, 500]):\n",
    "\n",
    "        \"\"\"\n",
    "        Initialize the simulation.\n",
    "        \n",
    "        Parameters:\n",
    "        -----------\n",
    "        sample_sizes : List[int]\n",
    "            List of sample sizes to test\n",
    "        \"\"\"\n",
    "        self.sample_sizes = sample_sizes\n",
    "        self.data_generator = RashomonDataGenerator()\n",
    "        self.analyzer = RashomonAnalyzer()\n",
    "        self.results = []\n",
    "        self.detailed_results = []\n",
    "        \n",
    "    def run(self):\n",
    "        \"\"\"Run the full simulation.\"\"\"\n",
    "        print(\"Running Rashomon Effect simulation...\")\n",
    "        print(\"Data generated with correlated predictors and distributed effects\\n\")\n",
    "        \n",
    "        for n in self.sample_sizes:\n",
    "            print(f\"Sample size: {n}\")\n",
    "            \n",
    "            # Get sample\n",
    "            sample_data = self.data_generator.get_sample(n)\n",
    "            \n",
    "            # Analyze Rashomon set\n",
    "            rashomon_results = self.analyzer.find_rashomon_set(sample_data)\n",
    "            \n",
    "            # Store results\n",
    "            self.results.append({\n",
    "                'sample_size': n,\n",
    "                'n_models_rashomon': rashomon_results['threshold_counts'][0.01]\n",
    "            })\n",
    "            \n",
    "            # Store detailed results\n",
    "            for threshold, count in rashomon_results['threshold_counts'].items():\n",
    "                self.detailed_results.append({\n",
    "                    'sample_size': n,\n",
    "                    'threshold': threshold,\n",
    "                    'n_models': count\n",
    "                })\n",
    "            \n",
    "            print()\n",
    "        \n",
    "    def save_results(self, output_dir: str = '../data'):\n",
    "        \"\"\"Save results to CSV files.\"\"\"\n",
    "        # Create output directory if it doesn't exist\n",
    "        os.makedirs(output_dir, exist_ok=True)\n",
    "        \n",
    "        # Save main results\n",
    "        results_df = pd.DataFrame(self.results)\n",
    "        results_df.to_csv(os.path.join(output_dir, 'result.csv'), index=False)\n",
    "        \n",
    "        # Save detailed results\n",
    "        detailed_df = pd.DataFrame(self.detailed_results)\n",
    "        detailed_df.to_csv(os.path.join(output_dir, 'detailed_results.csv'), index=False)\n",
    "        \n",
    "        print(f\"\\nResults saved to '{output_dir}/result.csv' and '{output_dir}/detailed_results.csv'\")\n",
    "        print(\"\\nSummary (1% threshold):\")\n",
    "        print(results_df)\n",
    "        \n",
    "        # Show correlation info\n",
    "        Sigma = self.data_generator._create_correlation_matrix()\n",
    "        avg_corr = np.mean(Sigma[np.triu_indices_from(Sigma, k=1)])\n",
    "        print(f\"\\nAverage correlation between predictors: {avg_corr:.3f}\")\n",
    "        print(\"This creates many competing models with similar performance\")\n"
   ]
  },
  {
   "cell_type": "code",
   "execution_count": 5,
   "id": "af4d054e-06a2-4f68-ab0a-8b7aeb2fcdf9",
   "metadata": {},
   "outputs": [],
   "source": [
    "def main():\n",
    "    \"\"\"Main function to run the simulation.\"\"\"\n",
    "    # Create and run simulation\n",
    "    sim = RashomonSimulation()\n",
    "    sim.run()\n",
    "    sim.save_results()"
   ]
  },
  {
   "cell_type": "code",
   "execution_count": 6,
   "id": "243926d7-8535-4871-aefb-abcfa4c82b1a",
   "metadata": {},
   "outputs": [
    {
     "name": "stdout",
     "output_type": "stream",
     "text": [
      "Running Rashomon Effect simulation...\n",
      "Data generated with correlated predictors and distributed effects\n",
      "\n",
      "Sample size: 100\n",
      "  Evaluating 142506 possible 5-variable models...\n"
     ]
    },
    {
     "name": "stderr",
     "output_type": "stream",
     "text": [
      "  Computing RSS: 100%|████████████████| 142506/142506 [01:02<00:00, 2264.95it/s]\n"
     ]
    },
    {
     "name": "stdout",
     "output_type": "stream",
     "text": [
      "  Models within various thresholds of best:\n",
      "    Within 1%: 3 models\n",
      "    Within 2%: 11 models\n",
      "    Within 5%: 57 models\n",
      "\n",
      "Sample size: 200\n",
      "  Evaluating 142506 possible 5-variable models...\n"
     ]
    },
    {
     "name": "stderr",
     "output_type": "stream",
     "text": [
      "  Computing RSS: 100%|████████████████| 142506/142506 [01:03<00:00, 2231.73it/s]\n"
     ]
    },
    {
     "name": "stdout",
     "output_type": "stream",
     "text": [
      "  Models within various thresholds of best:\n",
      "    Within 1%: 4 models\n",
      "    Within 2%: 7 models\n",
      "    Within 5%: 60 models\n",
      "\n",
      "Sample size: 300\n",
      "  Evaluating 142506 possible 5-variable models...\n"
     ]
    },
    {
     "name": "stderr",
     "output_type": "stream",
     "text": [
      "  Computing RSS: 100%|████████████████| 142506/142506 [01:08<00:00, 2085.24it/s]\n"
     ]
    },
    {
     "name": "stdout",
     "output_type": "stream",
     "text": [
      "  Models within various thresholds of best:\n",
      "    Within 1%: 1 models\n",
      "    Within 2%: 3 models\n",
      "    Within 5%: 10 models\n",
      "\n",
      "Sample size: 400\n",
      "  Evaluating 142506 possible 5-variable models...\n"
     ]
    },
    {
     "name": "stderr",
     "output_type": "stream",
     "text": [
      "  Computing RSS: 100%|████████████████| 142506/142506 [01:13<00:00, 1951.73it/s]\n"
     ]
    },
    {
     "name": "stdout",
     "output_type": "stream",
     "text": [
      "  Models within various thresholds of best:\n",
      "    Within 1%: 1 models\n",
      "    Within 2%: 1 models\n",
      "    Within 5%: 11 models\n",
      "\n",
      "Sample size: 500\n",
      "  Evaluating 142506 possible 5-variable models...\n"
     ]
    },
    {
     "name": "stderr",
     "output_type": "stream",
     "text": [
      "  Computing RSS: 100%|████████████████| 142506/142506 [01:18<00:00, 1825.08it/s]\n"
     ]
    },
    {
     "name": "stdout",
     "output_type": "stream",
     "text": [
      "  Models within various thresholds of best:\n",
      "    Within 1%: 4 models\n",
      "    Within 2%: 11 models\n",
      "    Within 5%: 50 models\n",
      "\n",
      "Sample size: 600\n",
      "  Evaluating 142506 possible 5-variable models...\n"
     ]
    },
    {
     "name": "stderr",
     "output_type": "stream",
     "text": [
      "  Computing RSS: 100%|████████████████| 142506/142506 [01:21<00:00, 1757.73it/s]\n"
     ]
    },
    {
     "name": "stdout",
     "output_type": "stream",
     "text": [
      "  Models within various thresholds of best:\n",
      "    Within 1%: 2 models\n",
      "    Within 2%: 5 models\n",
      "    Within 5%: 26 models\n",
      "\n",
      "Sample size: 700\n",
      "  Evaluating 142506 possible 5-variable models...\n"
     ]
    },
    {
     "name": "stderr",
     "output_type": "stream",
     "text": [
      "  Computing RSS: 100%|████████████████| 142506/142506 [01:25<00:00, 1660.72it/s]\n"
     ]
    },
    {
     "name": "stdout",
     "output_type": "stream",
     "text": [
      "  Models within various thresholds of best:\n",
      "    Within 1%: 2 models\n",
      "    Within 2%: 3 models\n",
      "    Within 5%: 33 models\n",
      "\n",
      "Sample size: 800\n",
      "  Evaluating 142506 possible 5-variable models...\n"
     ]
    },
    {
     "name": "stderr",
     "output_type": "stream",
     "text": [
      "  Computing RSS: 100%|████████████████| 142506/142506 [01:30<00:00, 1577.63it/s]\n"
     ]
    },
    {
     "name": "stdout",
     "output_type": "stream",
     "text": [
      "  Models within various thresholds of best:\n",
      "    Within 1%: 5 models\n",
      "    Within 2%: 13 models\n",
      "    Within 5%: 87 models\n",
      "\n",
      "Sample size: 900\n",
      "  Evaluating 142506 possible 5-variable models...\n"
     ]
    },
    {
     "name": "stderr",
     "output_type": "stream",
     "text": [
      "  Computing RSS: 100%|████████████████| 142506/142506 [01:35<00:00, 1485.50it/s]\n"
     ]
    },
    {
     "name": "stdout",
     "output_type": "stream",
     "text": [
      "  Models within various thresholds of best:\n",
      "    Within 1%: 2 models\n",
      "    Within 2%: 6 models\n",
      "    Within 5%: 33 models\n",
      "\n",
      "Sample size: 1000\n",
      "  Evaluating 142506 possible 5-variable models...\n"
     ]
    },
    {
     "name": "stderr",
     "output_type": "stream",
     "text": [
      "  Computing RSS: 100%|████████████████| 142506/142506 [01:40<00:00, 1425.06it/s]\n"
     ]
    },
    {
     "name": "stdout",
     "output_type": "stream",
     "text": [
      "  Models within various thresholds of best:\n",
      "    Within 1%: 1 models\n",
      "    Within 2%: 7 models\n",
      "    Within 5%: 83 models\n",
      "\n",
      "Sample size: 1100\n",
      "  Evaluating 142506 possible 5-variable models...\n"
     ]
    },
    {
     "name": "stderr",
     "output_type": "stream",
     "text": [
      "  Computing RSS: 100%|████████████████| 142506/142506 [01:44<00:00, 1362.80it/s]\n"
     ]
    },
    {
     "name": "stdout",
     "output_type": "stream",
     "text": [
      "  Models within various thresholds of best:\n",
      "    Within 1%: 2 models\n",
      "    Within 2%: 5 models\n",
      "    Within 5%: 64 models\n",
      "\n",
      "Sample size: 1200\n",
      "  Evaluating 142506 possible 5-variable models...\n"
     ]
    },
    {
     "name": "stderr",
     "output_type": "stream",
     "text": [
      "  Computing RSS: 100%|█████████████████| 142506/142506 [16:50<00:00, 141.03it/s]\n"
     ]
    },
    {
     "name": "stdout",
     "output_type": "stream",
     "text": [
      "  Models within various thresholds of best:\n",
      "    Within 1%: 3 models\n",
      "    Within 2%: 6 models\n",
      "    Within 5%: 46 models\n",
      "\n",
      "Sample size: 1300\n",
      "  Evaluating 142506 possible 5-variable models...\n"
     ]
    },
    {
     "name": "stderr",
     "output_type": "stream",
     "text": [
      "  Computing RSS: 100%|████████████████| 142506/142506 [01:53<00:00, 1256.94it/s]\n"
     ]
    },
    {
     "name": "stdout",
     "output_type": "stream",
     "text": [
      "  Models within various thresholds of best:\n",
      "    Within 1%: 3 models\n",
      "    Within 2%: 13 models\n",
      "    Within 5%: 124 models\n",
      "\n",
      "Sample size: 1400\n",
      "  Evaluating 142506 possible 5-variable models...\n"
     ]
    },
    {
     "name": "stderr",
     "output_type": "stream",
     "text": [
      "  Computing RSS: 100%|████████████████| 142506/142506 [01:57<00:00, 1209.15it/s]\n"
     ]
    },
    {
     "name": "stdout",
     "output_type": "stream",
     "text": [
      "  Models within various thresholds of best:\n",
      "    Within 1%: 3 models\n",
      "    Within 2%: 3 models\n",
      "    Within 5%: 44 models\n",
      "\n",
      "Sample size: 1500\n",
      "  Evaluating 142506 possible 5-variable models...\n"
     ]
    },
    {
     "name": "stderr",
     "output_type": "stream",
     "text": [
      "  Computing RSS: 100%|████████████████| 142506/142506 [02:02<00:00, 1160.66it/s]\n"
     ]
    },
    {
     "name": "stdout",
     "output_type": "stream",
     "text": [
      "  Models within various thresholds of best:\n",
      "    Within 1%: 1 models\n",
      "    Within 2%: 3 models\n",
      "    Within 5%: 62 models\n",
      "\n",
      "Sample size: 1600\n",
      "  Evaluating 142506 possible 5-variable models...\n"
     ]
    },
    {
     "name": "stderr",
     "output_type": "stream",
     "text": [
      "  Computing RSS: 100%|████████████████| 142506/142506 [02:07<00:00, 1121.81it/s]\n"
     ]
    },
    {
     "name": "stdout",
     "output_type": "stream",
     "text": [
      "  Models within various thresholds of best:\n",
      "    Within 1%: 1 models\n",
      "    Within 2%: 2 models\n",
      "    Within 5%: 30 models\n",
      "\n",
      "Sample size: 1700\n",
      "  Evaluating 142506 possible 5-variable models...\n"
     ]
    },
    {
     "name": "stderr",
     "output_type": "stream",
     "text": [
      "  Computing RSS: 100%|████████████████| 142506/142506 [02:11<00:00, 1080.84it/s]\n"
     ]
    },
    {
     "name": "stdout",
     "output_type": "stream",
     "text": [
      "  Models within various thresholds of best:\n",
      "    Within 1%: 1 models\n",
      "    Within 2%: 5 models\n",
      "    Within 5%: 33 models\n",
      "\n",
      "Sample size: 1800\n",
      "  Evaluating 142506 possible 5-variable models...\n"
     ]
    },
    {
     "name": "stderr",
     "output_type": "stream",
     "text": [
      "  Computing RSS: 100%|████████████████| 142506/142506 [02:16<00:00, 1045.34it/s]\n"
     ]
    },
    {
     "name": "stdout",
     "output_type": "stream",
     "text": [
      "  Models within various thresholds of best:\n",
      "    Within 1%: 3 models\n",
      "    Within 2%: 4 models\n",
      "    Within 5%: 64 models\n",
      "\n",
      "Sample size: 1900\n",
      "  Evaluating 142506 possible 5-variable models...\n"
     ]
    },
    {
     "name": "stderr",
     "output_type": "stream",
     "text": [
      "  Computing RSS: 100%|█████████████████| 142506/142506 [02:36<00:00, 911.94it/s]\n"
     ]
    },
    {
     "name": "stdout",
     "output_type": "stream",
     "text": [
      "  Models within various thresholds of best:\n",
      "    Within 1%: 8 models\n",
      "    Within 2%: 11 models\n",
      "    Within 5%: 130 models\n",
      "\n",
      "Sample size: 2000\n",
      "  Evaluating 142506 possible 5-variable models...\n"
     ]
    },
    {
     "name": "stderr",
     "output_type": "stream",
     "text": [
      "  Computing RSS: 100%|█████████████████| 142506/142506 [02:50<00:00, 835.36it/s]"
     ]
    },
    {
     "name": "stdout",
     "output_type": "stream",
     "text": [
      "  Models within various thresholds of best:\n",
      "    Within 1%: 4 models\n",
      "    Within 2%: 8 models\n",
      "    Within 5%: 68 models\n",
      "\n",
      "\n",
      "Results saved to '../data/result.csv' and '../data/detailed_results.csv'\n",
      "\n",
      "Summary (1% threshold):\n",
      "    sample_size  n_models_rashomon\n",
      "0           100                  3\n",
      "1           200                  4\n",
      "2           300                  1\n",
      "3           400                  1\n",
      "4           500                  4\n",
      "5           600                  2\n",
      "6           700                  2\n",
      "7           800                  5\n",
      "8           900                  2\n",
      "9          1000                  1\n",
      "10         1100                  2\n",
      "11         1200                  3\n",
      "12         1300                  3\n",
      "13         1400                  3\n",
      "14         1500                  1\n",
      "15         1600                  1\n",
      "16         1700                  1\n",
      "17         1800                  3\n",
      "18         1900                  8\n",
      "19         2000                  4\n",
      "\n",
      "Average correlation between predictors: 0.324\n",
      "This creates many competing models with similar performance\n"
     ]
    },
    {
     "name": "stderr",
     "output_type": "stream",
     "text": [
      "\n"
     ]
    }
   ],
   "source": [
    "if __name__ == \"__main__\":\n",
    "    main()"
   ]
  },
  {
   "cell_type": "code",
   "execution_count": null,
   "id": "6d4caaab-ab8d-479a-bf1e-a7e1db24e214",
   "metadata": {},
   "outputs": [],
   "source": []
  },
  {
   "cell_type": "code",
   "execution_count": null,
   "id": "d705b63b-679c-46d0-9642-ec9081588466",
   "metadata": {},
   "outputs": [],
   "source": []
  },
  {
   "cell_type": "code",
   "execution_count": null,
   "id": "1e371ffa-a737-4923-8861-0d0257aa5f3b",
   "metadata": {},
   "outputs": [],
   "source": []
  },
  {
   "cell_type": "code",
   "execution_count": null,
   "id": "cf53739a-1be5-42c5-8029-652320ffc98a",
   "metadata": {},
   "outputs": [],
   "source": []
  }
 ],
 "metadata": {
  "kernelspec": {
   "display_name": "Python 3 (ipykernel)",
   "language": "python",
   "name": "python3"
  },
  "language_info": {
   "codemirror_mode": {
    "name": "ipython",
    "version": 3
   },
   "file_extension": ".py",
   "mimetype": "text/x-python",
   "name": "python",
   "nbconvert_exporter": "python",
   "pygments_lexer": "ipython3",
   "version": "3.11.5"
  }
 },
 "nbformat": 4,
 "nbformat_minor": 5
}
